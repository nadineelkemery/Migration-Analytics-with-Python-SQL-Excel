{
  "nbformat": 4,
  "nbformat_minor": 0,
  "metadata": {
    "colab": {
      "provenance": [],
      "toc_visible": true
    },
    "kernelspec": {
      "name": "python3",
      "display_name": "Python 3"
    },
    "language_info": {
      "name": "python"
    }
  },
  "cells": [
    {
      "cell_type": "markdown",
      "source": [
        "#Data Loading and inspection"
      ],
      "metadata": {
        "id": "1XXMYY6g4ctc"
      }
    },
    {
      "cell_type": "markdown",
      "source": [
        "##Importing Libraries"
      ],
      "metadata": {
        "id": "qmRl3RCr4v-4"
      }
    },
    {
      "cell_type": "code",
      "execution_count": 19,
      "metadata": {
        "id": "89Q_gqRn1gb-"
      },
      "outputs": [],
      "source": [
        "import pandas as pd\n",
        "import numpy as np\n",
        "import matplotlib.pyplot as plt\n",
        "import seaborn as sns"
      ]
    },
    {
      "cell_type": "markdown",
      "source": [
        "##Data uploading"
      ],
      "metadata": {
        "id": "YO9JhxeA47n7"
      }
    },
    {
      "cell_type": "code",
      "source": [
        "from google.colab import files\n",
        "uploaded = files.upload()"
      ],
      "metadata": {
        "colab": {
          "base_uri": "https://localhost:8080/",
          "height": 73
        },
        "id": "34lb7sm02abF",
        "outputId": "1de44542-c00c-4297-c80d-f1b7301016cf"
      },
      "execution_count": 20,
      "outputs": [
        {
          "output_type": "display_data",
          "data": {
            "text/plain": [
              "<IPython.core.display.HTML object>"
            ],
            "text/html": [
              "\n",
              "     <input type=\"file\" id=\"files-3bf29bf3-30f8-4437-8b91-b1ffd1996277\" name=\"files[]\" multiple disabled\n",
              "        style=\"border:none\" />\n",
              "     <output id=\"result-3bf29bf3-30f8-4437-8b91-b1ffd1996277\">\n",
              "      Upload widget is only available when the cell has been executed in the\n",
              "      current browser session. Please rerun this cell to enable.\n",
              "      </output>\n",
              "      <script>// Copyright 2017 Google LLC\n",
              "//\n",
              "// Licensed under the Apache License, Version 2.0 (the \"License\");\n",
              "// you may not use this file except in compliance with the License.\n",
              "// You may obtain a copy of the License at\n",
              "//\n",
              "//      http://www.apache.org/licenses/LICENSE-2.0\n",
              "//\n",
              "// Unless required by applicable law or agreed to in writing, software\n",
              "// distributed under the License is distributed on an \"AS IS\" BASIS,\n",
              "// WITHOUT WARRANTIES OR CONDITIONS OF ANY KIND, either express or implied.\n",
              "// See the License for the specific language governing permissions and\n",
              "// limitations under the License.\n",
              "\n",
              "/**\n",
              " * @fileoverview Helpers for google.colab Python module.\n",
              " */\n",
              "(function(scope) {\n",
              "function span(text, styleAttributes = {}) {\n",
              "  const element = document.createElement('span');\n",
              "  element.textContent = text;\n",
              "  for (const key of Object.keys(styleAttributes)) {\n",
              "    element.style[key] = styleAttributes[key];\n",
              "  }\n",
              "  return element;\n",
              "}\n",
              "\n",
              "// Max number of bytes which will be uploaded at a time.\n",
              "const MAX_PAYLOAD_SIZE = 100 * 1024;\n",
              "\n",
              "function _uploadFiles(inputId, outputId) {\n",
              "  const steps = uploadFilesStep(inputId, outputId);\n",
              "  const outputElement = document.getElementById(outputId);\n",
              "  // Cache steps on the outputElement to make it available for the next call\n",
              "  // to uploadFilesContinue from Python.\n",
              "  outputElement.steps = steps;\n",
              "\n",
              "  return _uploadFilesContinue(outputId);\n",
              "}\n",
              "\n",
              "// This is roughly an async generator (not supported in the browser yet),\n",
              "// where there are multiple asynchronous steps and the Python side is going\n",
              "// to poll for completion of each step.\n",
              "// This uses a Promise to block the python side on completion of each step,\n",
              "// then passes the result of the previous step as the input to the next step.\n",
              "function _uploadFilesContinue(outputId) {\n",
              "  const outputElement = document.getElementById(outputId);\n",
              "  const steps = outputElement.steps;\n",
              "\n",
              "  const next = steps.next(outputElement.lastPromiseValue);\n",
              "  return Promise.resolve(next.value.promise).then((value) => {\n",
              "    // Cache the last promise value to make it available to the next\n",
              "    // step of the generator.\n",
              "    outputElement.lastPromiseValue = value;\n",
              "    return next.value.response;\n",
              "  });\n",
              "}\n",
              "\n",
              "/**\n",
              " * Generator function which is called between each async step of the upload\n",
              " * process.\n",
              " * @param {string} inputId Element ID of the input file picker element.\n",
              " * @param {string} outputId Element ID of the output display.\n",
              " * @return {!Iterable<!Object>} Iterable of next steps.\n",
              " */\n",
              "function* uploadFilesStep(inputId, outputId) {\n",
              "  const inputElement = document.getElementById(inputId);\n",
              "  inputElement.disabled = false;\n",
              "\n",
              "  const outputElement = document.getElementById(outputId);\n",
              "  outputElement.innerHTML = '';\n",
              "\n",
              "  const pickedPromise = new Promise((resolve) => {\n",
              "    inputElement.addEventListener('change', (e) => {\n",
              "      resolve(e.target.files);\n",
              "    });\n",
              "  });\n",
              "\n",
              "  const cancel = document.createElement('button');\n",
              "  inputElement.parentElement.appendChild(cancel);\n",
              "  cancel.textContent = 'Cancel upload';\n",
              "  const cancelPromise = new Promise((resolve) => {\n",
              "    cancel.onclick = () => {\n",
              "      resolve(null);\n",
              "    };\n",
              "  });\n",
              "\n",
              "  // Wait for the user to pick the files.\n",
              "  const files = yield {\n",
              "    promise: Promise.race([pickedPromise, cancelPromise]),\n",
              "    response: {\n",
              "      action: 'starting',\n",
              "    }\n",
              "  };\n",
              "\n",
              "  cancel.remove();\n",
              "\n",
              "  // Disable the input element since further picks are not allowed.\n",
              "  inputElement.disabled = true;\n",
              "\n",
              "  if (!files) {\n",
              "    return {\n",
              "      response: {\n",
              "        action: 'complete',\n",
              "      }\n",
              "    };\n",
              "  }\n",
              "\n",
              "  for (const file of files) {\n",
              "    const li = document.createElement('li');\n",
              "    li.append(span(file.name, {fontWeight: 'bold'}));\n",
              "    li.append(span(\n",
              "        `(${file.type || 'n/a'}) - ${file.size} bytes, ` +\n",
              "        `last modified: ${\n",
              "            file.lastModifiedDate ? file.lastModifiedDate.toLocaleDateString() :\n",
              "                                    'n/a'} - `));\n",
              "    const percent = span('0% done');\n",
              "    li.appendChild(percent);\n",
              "\n",
              "    outputElement.appendChild(li);\n",
              "\n",
              "    const fileDataPromise = new Promise((resolve) => {\n",
              "      const reader = new FileReader();\n",
              "      reader.onload = (e) => {\n",
              "        resolve(e.target.result);\n",
              "      };\n",
              "      reader.readAsArrayBuffer(file);\n",
              "    });\n",
              "    // Wait for the data to be ready.\n",
              "    let fileData = yield {\n",
              "      promise: fileDataPromise,\n",
              "      response: {\n",
              "        action: 'continue',\n",
              "      }\n",
              "    };\n",
              "\n",
              "    // Use a chunked sending to avoid message size limits. See b/62115660.\n",
              "    let position = 0;\n",
              "    do {\n",
              "      const length = Math.min(fileData.byteLength - position, MAX_PAYLOAD_SIZE);\n",
              "      const chunk = new Uint8Array(fileData, position, length);\n",
              "      position += length;\n",
              "\n",
              "      const base64 = btoa(String.fromCharCode.apply(null, chunk));\n",
              "      yield {\n",
              "        response: {\n",
              "          action: 'append',\n",
              "          file: file.name,\n",
              "          data: base64,\n",
              "        },\n",
              "      };\n",
              "\n",
              "      let percentDone = fileData.byteLength === 0 ?\n",
              "          100 :\n",
              "          Math.round((position / fileData.byteLength) * 100);\n",
              "      percent.textContent = `${percentDone}% done`;\n",
              "\n",
              "    } while (position < fileData.byteLength);\n",
              "  }\n",
              "\n",
              "  // All done.\n",
              "  yield {\n",
              "    response: {\n",
              "      action: 'complete',\n",
              "    }\n",
              "  };\n",
              "}\n",
              "\n",
              "scope.google = scope.google || {};\n",
              "scope.google.colab = scope.google.colab || {};\n",
              "scope.google.colab._files = {\n",
              "  _uploadFiles,\n",
              "  _uploadFilesContinue,\n",
              "};\n",
              "})(self);\n",
              "</script> "
            ]
          },
          "metadata": {}
        },
        {
          "output_type": "stream",
          "name": "stdout",
          "text": [
            "Saving global_student_migration.csv to global_student_migration (2).csv\n"
          ]
        }
      ]
    },
    {
      "cell_type": "markdown",
      "source": [
        "##Read and Display Data"
      ],
      "metadata": {
        "id": "gQkJi9ki5Mmp"
      }
    },
    {
      "cell_type": "code",
      "source": [
        "df = pd.read_csv(\"global_student_migration.csv\")\n",
        "df.head()"
      ],
      "metadata": {
        "colab": {
          "base_uri": "https://localhost:8080/",
          "height": 330
        },
        "id": "R_cOgbWJ2C50",
        "outputId": "b9d50e69-1b47-4c92-b8e4-7d134b2bbf4b"
      },
      "execution_count": 21,
      "outputs": [
        {
          "output_type": "execute_result",
          "data": {
            "text/plain": [
              "  student_id origin_country destination_country destination_city  \\\n",
              "0     S00001        Finland              Russia           Moscow   \n",
              "1     S00002             UK             Germany           Aachen   \n",
              "2     S00003        Ireland              Canada        Vancouver   \n",
              "3     S00004            UAE                  UK       Birmingham   \n",
              "4     S00005   South Africa             Germany        Stuttgart   \n",
              "\n",
              "                     university_name              course_name  \\\n",
              "0  Lomonosov Moscow State University         Computer Science   \n",
              "1                        RWTH Aachen        Civil Engineering   \n",
              "2     University of British Columbia                      Law   \n",
              "3           University of Birmingham             Data Science   \n",
              "4            University of Stuttgart  Business Administration   \n",
              "\n",
              "    field_of_study  year_of_enrollment scholarship_received  \\\n",
              "0      Engineering                2021                   No   \n",
              "1              Law                2023                  Yes   \n",
              "2             Arts                2019                   No   \n",
              "3  Social Sciences                2021                  Yes   \n",
              "4              Law                2020                  Yes   \n",
              "\n",
              "     enrollment_reason  graduation_year placement_status placement_country  \\\n",
              "0       Higher Ranking             2024           Placed            Russia   \n",
              "1    Job Opportunities             2024           Placed           Germany   \n",
              "2          Scholarship             2020       Not Placed               NaN   \n",
              "3      Quality of Life             2023           Placed                UK   \n",
              "4  Political Stability             2021           Placed           Germany   \n",
              "\n",
              "  placement_company  starting_salary_usd  gpa_or_score            visa_status  \\\n",
              "0         Microsoft                36416          3.92                 Tier 4   \n",
              "1            Google                32956          2.60           Study Permit   \n",
              "2               NaN                    0          2.72                     F1   \n",
              "3             Apple                50892          3.71  Schengen Student Visa   \n",
              "4               IBM                54790          2.96  Schengen Student Visa   \n",
              "\n",
              "  post_graduation_visa language_proficiency_test  test_score  \n",
              "0          Work Permit                     TOEFL         7.8  \n",
              "1                  OPT                       PTE         7.9  \n",
              "2            Blue Card                       NaN         0.0  \n",
              "3                  PSW                       NaN         0.0  \n",
              "4                  OPT                       PTE         8.2  "
            ],
            "text/html": [
              "\n",
              "  <div id=\"df-bf2cc20d-5378-44a7-b62b-2ee170213aae\" class=\"colab-df-container\">\n",
              "    <div>\n",
              "<style scoped>\n",
              "    .dataframe tbody tr th:only-of-type {\n",
              "        vertical-align: middle;\n",
              "    }\n",
              "\n",
              "    .dataframe tbody tr th {\n",
              "        vertical-align: top;\n",
              "    }\n",
              "\n",
              "    .dataframe thead th {\n",
              "        text-align: right;\n",
              "    }\n",
              "</style>\n",
              "<table border=\"1\" class=\"dataframe\">\n",
              "  <thead>\n",
              "    <tr style=\"text-align: right;\">\n",
              "      <th></th>\n",
              "      <th>student_id</th>\n",
              "      <th>origin_country</th>\n",
              "      <th>destination_country</th>\n",
              "      <th>destination_city</th>\n",
              "      <th>university_name</th>\n",
              "      <th>course_name</th>\n",
              "      <th>field_of_study</th>\n",
              "      <th>year_of_enrollment</th>\n",
              "      <th>scholarship_received</th>\n",
              "      <th>enrollment_reason</th>\n",
              "      <th>graduation_year</th>\n",
              "      <th>placement_status</th>\n",
              "      <th>placement_country</th>\n",
              "      <th>placement_company</th>\n",
              "      <th>starting_salary_usd</th>\n",
              "      <th>gpa_or_score</th>\n",
              "      <th>visa_status</th>\n",
              "      <th>post_graduation_visa</th>\n",
              "      <th>language_proficiency_test</th>\n",
              "      <th>test_score</th>\n",
              "    </tr>\n",
              "  </thead>\n",
              "  <tbody>\n",
              "    <tr>\n",
              "      <th>0</th>\n",
              "      <td>S00001</td>\n",
              "      <td>Finland</td>\n",
              "      <td>Russia</td>\n",
              "      <td>Moscow</td>\n",
              "      <td>Lomonosov Moscow State University</td>\n",
              "      <td>Computer Science</td>\n",
              "      <td>Engineering</td>\n",
              "      <td>2021</td>\n",
              "      <td>No</td>\n",
              "      <td>Higher Ranking</td>\n",
              "      <td>2024</td>\n",
              "      <td>Placed</td>\n",
              "      <td>Russia</td>\n",
              "      <td>Microsoft</td>\n",
              "      <td>36416</td>\n",
              "      <td>3.92</td>\n",
              "      <td>Tier 4</td>\n",
              "      <td>Work Permit</td>\n",
              "      <td>TOEFL</td>\n",
              "      <td>7.8</td>\n",
              "    </tr>\n",
              "    <tr>\n",
              "      <th>1</th>\n",
              "      <td>S00002</td>\n",
              "      <td>UK</td>\n",
              "      <td>Germany</td>\n",
              "      <td>Aachen</td>\n",
              "      <td>RWTH Aachen</td>\n",
              "      <td>Civil Engineering</td>\n",
              "      <td>Law</td>\n",
              "      <td>2023</td>\n",
              "      <td>Yes</td>\n",
              "      <td>Job Opportunities</td>\n",
              "      <td>2024</td>\n",
              "      <td>Placed</td>\n",
              "      <td>Germany</td>\n",
              "      <td>Google</td>\n",
              "      <td>32956</td>\n",
              "      <td>2.60</td>\n",
              "      <td>Study Permit</td>\n",
              "      <td>OPT</td>\n",
              "      <td>PTE</td>\n",
              "      <td>7.9</td>\n",
              "    </tr>\n",
              "    <tr>\n",
              "      <th>2</th>\n",
              "      <td>S00003</td>\n",
              "      <td>Ireland</td>\n",
              "      <td>Canada</td>\n",
              "      <td>Vancouver</td>\n",
              "      <td>University of British Columbia</td>\n",
              "      <td>Law</td>\n",
              "      <td>Arts</td>\n",
              "      <td>2019</td>\n",
              "      <td>No</td>\n",
              "      <td>Scholarship</td>\n",
              "      <td>2020</td>\n",
              "      <td>Not Placed</td>\n",
              "      <td>NaN</td>\n",
              "      <td>NaN</td>\n",
              "      <td>0</td>\n",
              "      <td>2.72</td>\n",
              "      <td>F1</td>\n",
              "      <td>Blue Card</td>\n",
              "      <td>NaN</td>\n",
              "      <td>0.0</td>\n",
              "    </tr>\n",
              "    <tr>\n",
              "      <th>3</th>\n",
              "      <td>S00004</td>\n",
              "      <td>UAE</td>\n",
              "      <td>UK</td>\n",
              "      <td>Birmingham</td>\n",
              "      <td>University of Birmingham</td>\n",
              "      <td>Data Science</td>\n",
              "      <td>Social Sciences</td>\n",
              "      <td>2021</td>\n",
              "      <td>Yes</td>\n",
              "      <td>Quality of Life</td>\n",
              "      <td>2023</td>\n",
              "      <td>Placed</td>\n",
              "      <td>UK</td>\n",
              "      <td>Apple</td>\n",
              "      <td>50892</td>\n",
              "      <td>3.71</td>\n",
              "      <td>Schengen Student Visa</td>\n",
              "      <td>PSW</td>\n",
              "      <td>NaN</td>\n",
              "      <td>0.0</td>\n",
              "    </tr>\n",
              "    <tr>\n",
              "      <th>4</th>\n",
              "      <td>S00005</td>\n",
              "      <td>South Africa</td>\n",
              "      <td>Germany</td>\n",
              "      <td>Stuttgart</td>\n",
              "      <td>University of Stuttgart</td>\n",
              "      <td>Business Administration</td>\n",
              "      <td>Law</td>\n",
              "      <td>2020</td>\n",
              "      <td>Yes</td>\n",
              "      <td>Political Stability</td>\n",
              "      <td>2021</td>\n",
              "      <td>Placed</td>\n",
              "      <td>Germany</td>\n",
              "      <td>IBM</td>\n",
              "      <td>54790</td>\n",
              "      <td>2.96</td>\n",
              "      <td>Schengen Student Visa</td>\n",
              "      <td>OPT</td>\n",
              "      <td>PTE</td>\n",
              "      <td>8.2</td>\n",
              "    </tr>\n",
              "  </tbody>\n",
              "</table>\n",
              "</div>\n",
              "    <div class=\"colab-df-buttons\">\n",
              "\n",
              "  <div class=\"colab-df-container\">\n",
              "    <button class=\"colab-df-convert\" onclick=\"convertToInteractive('df-bf2cc20d-5378-44a7-b62b-2ee170213aae')\"\n",
              "            title=\"Convert this dataframe to an interactive table.\"\n",
              "            style=\"display:none;\">\n",
              "\n",
              "  <svg xmlns=\"http://www.w3.org/2000/svg\" height=\"24px\" viewBox=\"0 -960 960 960\">\n",
              "    <path d=\"M120-120v-720h720v720H120Zm60-500h600v-160H180v160Zm220 220h160v-160H400v160Zm0 220h160v-160H400v160ZM180-400h160v-160H180v160Zm440 0h160v-160H620v160ZM180-180h160v-160H180v160Zm440 0h160v-160H620v160Z\"/>\n",
              "  </svg>\n",
              "    </button>\n",
              "\n",
              "  <style>\n",
              "    .colab-df-container {\n",
              "      display:flex;\n",
              "      gap: 12px;\n",
              "    }\n",
              "\n",
              "    .colab-df-convert {\n",
              "      background-color: #E8F0FE;\n",
              "      border: none;\n",
              "      border-radius: 50%;\n",
              "      cursor: pointer;\n",
              "      display: none;\n",
              "      fill: #1967D2;\n",
              "      height: 32px;\n",
              "      padding: 0 0 0 0;\n",
              "      width: 32px;\n",
              "    }\n",
              "\n",
              "    .colab-df-convert:hover {\n",
              "      background-color: #E2EBFA;\n",
              "      box-shadow: 0px 1px 2px rgba(60, 64, 67, 0.3), 0px 1px 3px 1px rgba(60, 64, 67, 0.15);\n",
              "      fill: #174EA6;\n",
              "    }\n",
              "\n",
              "    .colab-df-buttons div {\n",
              "      margin-bottom: 4px;\n",
              "    }\n",
              "\n",
              "    [theme=dark] .colab-df-convert {\n",
              "      background-color: #3B4455;\n",
              "      fill: #D2E3FC;\n",
              "    }\n",
              "\n",
              "    [theme=dark] .colab-df-convert:hover {\n",
              "      background-color: #434B5C;\n",
              "      box-shadow: 0px 1px 3px 1px rgba(0, 0, 0, 0.15);\n",
              "      filter: drop-shadow(0px 1px 2px rgba(0, 0, 0, 0.3));\n",
              "      fill: #FFFFFF;\n",
              "    }\n",
              "  </style>\n",
              "\n",
              "    <script>\n",
              "      const buttonEl =\n",
              "        document.querySelector('#df-bf2cc20d-5378-44a7-b62b-2ee170213aae button.colab-df-convert');\n",
              "      buttonEl.style.display =\n",
              "        google.colab.kernel.accessAllowed ? 'block' : 'none';\n",
              "\n",
              "      async function convertToInteractive(key) {\n",
              "        const element = document.querySelector('#df-bf2cc20d-5378-44a7-b62b-2ee170213aae');\n",
              "        const dataTable =\n",
              "          await google.colab.kernel.invokeFunction('convertToInteractive',\n",
              "                                                    [key], {});\n",
              "        if (!dataTable) return;\n",
              "\n",
              "        const docLinkHtml = 'Like what you see? Visit the ' +\n",
              "          '<a target=\"_blank\" href=https://colab.research.google.com/notebooks/data_table.ipynb>data table notebook</a>'\n",
              "          + ' to learn more about interactive tables.';\n",
              "        element.innerHTML = '';\n",
              "        dataTable['output_type'] = 'display_data';\n",
              "        await google.colab.output.renderOutput(dataTable, element);\n",
              "        const docLink = document.createElement('div');\n",
              "        docLink.innerHTML = docLinkHtml;\n",
              "        element.appendChild(docLink);\n",
              "      }\n",
              "    </script>\n",
              "  </div>\n",
              "\n",
              "\n",
              "    <div id=\"df-c511c964-350f-4dd5-b982-e045abf3a656\">\n",
              "      <button class=\"colab-df-quickchart\" onclick=\"quickchart('df-c511c964-350f-4dd5-b982-e045abf3a656')\"\n",
              "                title=\"Suggest charts\"\n",
              "                style=\"display:none;\">\n",
              "\n",
              "<svg xmlns=\"http://www.w3.org/2000/svg\" height=\"24px\"viewBox=\"0 0 24 24\"\n",
              "     width=\"24px\">\n",
              "    <g>\n",
              "        <path d=\"M19 3H5c-1.1 0-2 .9-2 2v14c0 1.1.9 2 2 2h14c1.1 0 2-.9 2-2V5c0-1.1-.9-2-2-2zM9 17H7v-7h2v7zm4 0h-2V7h2v10zm4 0h-2v-4h2v4z\"/>\n",
              "    </g>\n",
              "</svg>\n",
              "      </button>\n",
              "\n",
              "<style>\n",
              "  .colab-df-quickchart {\n",
              "      --bg-color: #E8F0FE;\n",
              "      --fill-color: #1967D2;\n",
              "      --hover-bg-color: #E2EBFA;\n",
              "      --hover-fill-color: #174EA6;\n",
              "      --disabled-fill-color: #AAA;\n",
              "      --disabled-bg-color: #DDD;\n",
              "  }\n",
              "\n",
              "  [theme=dark] .colab-df-quickchart {\n",
              "      --bg-color: #3B4455;\n",
              "      --fill-color: #D2E3FC;\n",
              "      --hover-bg-color: #434B5C;\n",
              "      --hover-fill-color: #FFFFFF;\n",
              "      --disabled-bg-color: #3B4455;\n",
              "      --disabled-fill-color: #666;\n",
              "  }\n",
              "\n",
              "  .colab-df-quickchart {\n",
              "    background-color: var(--bg-color);\n",
              "    border: none;\n",
              "    border-radius: 50%;\n",
              "    cursor: pointer;\n",
              "    display: none;\n",
              "    fill: var(--fill-color);\n",
              "    height: 32px;\n",
              "    padding: 0;\n",
              "    width: 32px;\n",
              "  }\n",
              "\n",
              "  .colab-df-quickchart:hover {\n",
              "    background-color: var(--hover-bg-color);\n",
              "    box-shadow: 0 1px 2px rgba(60, 64, 67, 0.3), 0 1px 3px 1px rgba(60, 64, 67, 0.15);\n",
              "    fill: var(--button-hover-fill-color);\n",
              "  }\n",
              "\n",
              "  .colab-df-quickchart-complete:disabled,\n",
              "  .colab-df-quickchart-complete:disabled:hover {\n",
              "    background-color: var(--disabled-bg-color);\n",
              "    fill: var(--disabled-fill-color);\n",
              "    box-shadow: none;\n",
              "  }\n",
              "\n",
              "  .colab-df-spinner {\n",
              "    border: 2px solid var(--fill-color);\n",
              "    border-color: transparent;\n",
              "    border-bottom-color: var(--fill-color);\n",
              "    animation:\n",
              "      spin 1s steps(1) infinite;\n",
              "  }\n",
              "\n",
              "  @keyframes spin {\n",
              "    0% {\n",
              "      border-color: transparent;\n",
              "      border-bottom-color: var(--fill-color);\n",
              "      border-left-color: var(--fill-color);\n",
              "    }\n",
              "    20% {\n",
              "      border-color: transparent;\n",
              "      border-left-color: var(--fill-color);\n",
              "      border-top-color: var(--fill-color);\n",
              "    }\n",
              "    30% {\n",
              "      border-color: transparent;\n",
              "      border-left-color: var(--fill-color);\n",
              "      border-top-color: var(--fill-color);\n",
              "      border-right-color: var(--fill-color);\n",
              "    }\n",
              "    40% {\n",
              "      border-color: transparent;\n",
              "      border-right-color: var(--fill-color);\n",
              "      border-top-color: var(--fill-color);\n",
              "    }\n",
              "    60% {\n",
              "      border-color: transparent;\n",
              "      border-right-color: var(--fill-color);\n",
              "    }\n",
              "    80% {\n",
              "      border-color: transparent;\n",
              "      border-right-color: var(--fill-color);\n",
              "      border-bottom-color: var(--fill-color);\n",
              "    }\n",
              "    90% {\n",
              "      border-color: transparent;\n",
              "      border-bottom-color: var(--fill-color);\n",
              "    }\n",
              "  }\n",
              "</style>\n",
              "\n",
              "      <script>\n",
              "        async function quickchart(key) {\n",
              "          const quickchartButtonEl =\n",
              "            document.querySelector('#' + key + ' button');\n",
              "          quickchartButtonEl.disabled = true;  // To prevent multiple clicks.\n",
              "          quickchartButtonEl.classList.add('colab-df-spinner');\n",
              "          try {\n",
              "            const charts = await google.colab.kernel.invokeFunction(\n",
              "                'suggestCharts', [key], {});\n",
              "          } catch (error) {\n",
              "            console.error('Error during call to suggestCharts:', error);\n",
              "          }\n",
              "          quickchartButtonEl.classList.remove('colab-df-spinner');\n",
              "          quickchartButtonEl.classList.add('colab-df-quickchart-complete');\n",
              "        }\n",
              "        (() => {\n",
              "          let quickchartButtonEl =\n",
              "            document.querySelector('#df-c511c964-350f-4dd5-b982-e045abf3a656 button');\n",
              "          quickchartButtonEl.style.display =\n",
              "            google.colab.kernel.accessAllowed ? 'block' : 'none';\n",
              "        })();\n",
              "      </script>\n",
              "    </div>\n",
              "\n",
              "    </div>\n",
              "  </div>\n"
            ],
            "application/vnd.google.colaboratory.intrinsic+json": {
              "type": "dataframe",
              "variable_name": "df",
              "summary": "{\n  \"name\": \"df\",\n  \"rows\": 5000,\n  \"fields\": [\n    {\n      \"column\": \"student_id\",\n      \"properties\": {\n        \"dtype\": \"string\",\n        \"num_unique_values\": 5000,\n        \"samples\": [\n          \"S01502\",\n          \"S02587\",\n          \"S02654\"\n        ],\n        \"semantic_type\": \"\",\n        \"description\": \"\"\n      }\n    },\n    {\n      \"column\": \"origin_country\",\n      \"properties\": {\n        \"dtype\": \"category\",\n        \"num_unique_values\": 10,\n        \"samples\": [\n          \"Canada\",\n          \"UK\",\n          \"India\"\n        ],\n        \"semantic_type\": \"\",\n        \"description\": \"\"\n      }\n    },\n    {\n      \"column\": \"destination_country\",\n      \"properties\": {\n        \"dtype\": \"category\",\n        \"num_unique_values\": 10,\n        \"samples\": [\n          \"Finland\",\n          \"Germany\",\n          \"India\"\n        ],\n        \"semantic_type\": \"\",\n        \"description\": \"\"\n      }\n    },\n    {\n      \"column\": \"destination_city\",\n      \"properties\": {\n        \"dtype\": \"category\",\n        \"num_unique_values\": 51,\n        \"samples\": [\n          \"Durban\",\n          \"Kazan\",\n          \"Cork\"\n        ],\n        \"semantic_type\": \"\",\n        \"description\": \"\"\n      }\n    },\n    {\n      \"column\": \"university_name\",\n      \"properties\": {\n        \"dtype\": \"category\",\n        \"num_unique_values\": 74,\n        \"samples\": [\n          \"University of Stuttgart\",\n          \"Trinity College Dublin\",\n          \"University of Turku\"\n        ],\n        \"semantic_type\": \"\",\n        \"description\": \"\"\n      }\n    },\n    {\n      \"column\": \"course_name\",\n      \"properties\": {\n        \"dtype\": \"category\",\n        \"num_unique_values\": 15,\n        \"samples\": [\n          \"Psychology\",\n          \"Electrical Engineering\",\n          \"Computer Science\"\n        ],\n        \"semantic_type\": \"\",\n        \"description\": \"\"\n      }\n    },\n    {\n      \"column\": \"field_of_study\",\n      \"properties\": {\n        \"dtype\": \"category\",\n        \"num_unique_values\": 8,\n        \"samples\": [\n          \"Law\",\n          \"Computer Science\",\n          \"Engineering\"\n        ],\n        \"semantic_type\": \"\",\n        \"description\": \"\"\n      }\n    },\n    {\n      \"column\": \"year_of_enrollment\",\n      \"properties\": {\n        \"dtype\": \"number\",\n        \"std\": 1,\n        \"min\": 2019,\n        \"max\": 2023,\n        \"num_unique_values\": 5,\n        \"samples\": [\n          2023,\n          2022,\n          2019\n        ],\n        \"semantic_type\": \"\",\n        \"description\": \"\"\n      }\n    },\n    {\n      \"column\": \"scholarship_received\",\n      \"properties\": {\n        \"dtype\": \"category\",\n        \"num_unique_values\": 2,\n        \"samples\": [\n          \"Yes\",\n          \"No\"\n        ],\n        \"semantic_type\": \"\",\n        \"description\": \"\"\n      }\n    },\n    {\n      \"column\": \"enrollment_reason\",\n      \"properties\": {\n        \"dtype\": \"category\",\n        \"num_unique_values\": 5,\n        \"samples\": [\n          \"Job Opportunities\",\n          \"Political Stability\"\n        ],\n        \"semantic_type\": \"\",\n        \"description\": \"\"\n      }\n    },\n    {\n      \"column\": \"graduation_year\",\n      \"properties\": {\n        \"dtype\": \"number\",\n        \"std\": 1,\n        \"min\": 2020,\n        \"max\": 2026,\n        \"num_unique_values\": 7,\n        \"samples\": [\n          2024,\n          2020\n        ],\n        \"semantic_type\": \"\",\n        \"description\": \"\"\n      }\n    },\n    {\n      \"column\": \"placement_status\",\n      \"properties\": {\n        \"dtype\": \"category\",\n        \"num_unique_values\": 2,\n        \"samples\": [\n          \"Not Placed\",\n          \"Placed\"\n        ],\n        \"semantic_type\": \"\",\n        \"description\": \"\"\n      }\n    },\n    {\n      \"column\": \"placement_country\",\n      \"properties\": {\n        \"dtype\": \"category\",\n        \"num_unique_values\": 10,\n        \"samples\": [\n          \"Ireland\",\n          \"Germany\"\n        ],\n        \"semantic_type\": \"\",\n        \"description\": \"\"\n      }\n    },\n    {\n      \"column\": \"placement_company\",\n      \"properties\": {\n        \"dtype\": \"category\",\n        \"num_unique_values\": 13,\n        \"samples\": [\n          \"Tesla\",\n          \"Amazon\"\n        ],\n        \"semantic_type\": \"\",\n        \"description\": \"\"\n      }\n    },\n    {\n      \"column\": \"starting_salary_usd\",\n      \"properties\": {\n        \"dtype\": \"number\",\n        \"std\": 50719,\n        \"min\": 0,\n        \"max\": 149932,\n        \"num_unique_values\": 2485,\n        \"samples\": [\n          100808,\n          36121\n        ],\n        \"semantic_type\": \"\",\n        \"description\": \"\"\n      }\n    },\n    {\n      \"column\": \"gpa_or_score\",\n      \"properties\": {\n        \"dtype\": \"number\",\n        \"std\": 0.4306585897949716,\n        \"min\": 2.5,\n        \"max\": 4.0,\n        \"num_unique_values\": 151,\n        \"samples\": [\n          3.49,\n          3.98\n        ],\n        \"semantic_type\": \"\",\n        \"description\": \"\"\n      }\n    },\n    {\n      \"column\": \"visa_status\",\n      \"properties\": {\n        \"dtype\": \"category\",\n        \"num_unique_values\": 6,\n        \"samples\": [\n          \"Tier 4\",\n          \"Study Permit\"\n        ],\n        \"semantic_type\": \"\",\n        \"description\": \"\"\n      }\n    },\n    {\n      \"column\": \"post_graduation_visa\",\n      \"properties\": {\n        \"dtype\": \"category\",\n        \"num_unique_values\": 5,\n        \"samples\": [\n          \"OPT\",\n          \"Post-Study Visa\"\n        ],\n        \"semantic_type\": \"\",\n        \"description\": \"\"\n      }\n    },\n    {\n      \"column\": \"language_proficiency_test\",\n      \"properties\": {\n        \"dtype\": \"category\",\n        \"num_unique_values\": 4,\n        \"samples\": [\n          \"PTE\",\n          \"IELTS\"\n        ],\n        \"semantic_type\": \"\",\n        \"description\": \"\"\n      }\n    },\n    {\n      \"column\": \"test_score\",\n      \"properties\": {\n        \"dtype\": \"number\",\n        \"std\": 2.9738379078861388,\n        \"min\": 0.0,\n        \"max\": 9.0,\n        \"num_unique_values\": 42,\n        \"samples\": [\n          5.7,\n          8.5\n        ],\n        \"semantic_type\": \"\",\n        \"description\": \"\"\n      }\n    }\n  ]\n}"
            }
          },
          "metadata": {},
          "execution_count": 21
        }
      ]
    },
    {
      "cell_type": "markdown",
      "source": [
        "##Explore Data"
      ],
      "metadata": {
        "id": "8dmU9MCE5cuY"
      }
    },
    {
      "cell_type": "code",
      "source": [
        "# dfset structure\n",
        "df.info()\n",
        "\n",
        "# Display basic statistics for numeric columns\n",
        "df.describe()"
      ],
      "metadata": {
        "colab": {
          "base_uri": "https://localhost:8080/",
          "height": 768
        },
        "id": "SRFdNnSX3DqV",
        "outputId": "c171f06f-b83b-4b04-aeeb-be43142a18e5"
      },
      "execution_count": 22,
      "outputs": [
        {
          "output_type": "stream",
          "name": "stdout",
          "text": [
            "<class 'pandas.core.frame.DataFrame'>\n",
            "RangeIndex: 5000 entries, 0 to 4999\n",
            "Data columns (total 20 columns):\n",
            " #   Column                     Non-Null Count  Dtype  \n",
            "---  ------                     --------------  -----  \n",
            " 0   student_id                 5000 non-null   object \n",
            " 1   origin_country             5000 non-null   object \n",
            " 2   destination_country        5000 non-null   object \n",
            " 3   destination_city           5000 non-null   object \n",
            " 4   university_name            5000 non-null   object \n",
            " 5   course_name                5000 non-null   object \n",
            " 6   field_of_study             5000 non-null   object \n",
            " 7   year_of_enrollment         5000 non-null   int64  \n",
            " 8   scholarship_received       5000 non-null   object \n",
            " 9   enrollment_reason          5000 non-null   object \n",
            " 10  graduation_year            5000 non-null   int64  \n",
            " 11  placement_status           5000 non-null   object \n",
            " 12  placement_country          2509 non-null   object \n",
            " 13  placement_company          2509 non-null   object \n",
            " 14  starting_salary_usd        5000 non-null   int64  \n",
            " 15  gpa_or_score               5000 non-null   float64\n",
            " 16  visa_status                5000 non-null   object \n",
            " 17  post_graduation_visa       5000 non-null   object \n",
            " 18  language_proficiency_test  4018 non-null   object \n",
            " 19  test_score                 5000 non-null   float64\n",
            "dtypes: float64(2), int64(3), object(15)\n",
            "memory usage: 781.4+ KB\n"
          ]
        },
        {
          "output_type": "execute_result",
          "data": {
            "text/plain": [
              "       year_of_enrollment  graduation_year  starting_salary_usd  gpa_or_score  \\\n",
              "count         5000.000000      5000.000000          5000.000000   5000.000000   \n",
              "mean          2021.011000      2023.017800         44552.531000      3.246820   \n",
              "std              1.420733         1.651432         50719.190623      0.430659   \n",
              "min           2019.000000      2020.000000             0.000000      2.500000   \n",
              "25%           2020.000000      2022.000000             0.000000      2.877500   \n",
              "50%           2021.000000      2023.000000         30516.500000      3.240000   \n",
              "75%           2022.000000      2024.000000         87838.500000      3.610000   \n",
              "max           2023.000000      2026.000000        149932.000000      4.000000   \n",
              "\n",
              "        test_score  \n",
              "count  5000.000000  \n",
              "mean      5.632200  \n",
              "std       2.973838  \n",
              "min       0.000000  \n",
              "25%       5.300000  \n",
              "50%       6.500000  \n",
              "75%       7.800000  \n",
              "max       9.000000  "
            ],
            "text/html": [
              "\n",
              "  <div id=\"df-55d21e7b-8c08-4ca3-b3a2-e5e00fd71b5c\" class=\"colab-df-container\">\n",
              "    <div>\n",
              "<style scoped>\n",
              "    .dataframe tbody tr th:only-of-type {\n",
              "        vertical-align: middle;\n",
              "    }\n",
              "\n",
              "    .dataframe tbody tr th {\n",
              "        vertical-align: top;\n",
              "    }\n",
              "\n",
              "    .dataframe thead th {\n",
              "        text-align: right;\n",
              "    }\n",
              "</style>\n",
              "<table border=\"1\" class=\"dataframe\">\n",
              "  <thead>\n",
              "    <tr style=\"text-align: right;\">\n",
              "      <th></th>\n",
              "      <th>year_of_enrollment</th>\n",
              "      <th>graduation_year</th>\n",
              "      <th>starting_salary_usd</th>\n",
              "      <th>gpa_or_score</th>\n",
              "      <th>test_score</th>\n",
              "    </tr>\n",
              "  </thead>\n",
              "  <tbody>\n",
              "    <tr>\n",
              "      <th>count</th>\n",
              "      <td>5000.000000</td>\n",
              "      <td>5000.000000</td>\n",
              "      <td>5000.000000</td>\n",
              "      <td>5000.000000</td>\n",
              "      <td>5000.000000</td>\n",
              "    </tr>\n",
              "    <tr>\n",
              "      <th>mean</th>\n",
              "      <td>2021.011000</td>\n",
              "      <td>2023.017800</td>\n",
              "      <td>44552.531000</td>\n",
              "      <td>3.246820</td>\n",
              "      <td>5.632200</td>\n",
              "    </tr>\n",
              "    <tr>\n",
              "      <th>std</th>\n",
              "      <td>1.420733</td>\n",
              "      <td>1.651432</td>\n",
              "      <td>50719.190623</td>\n",
              "      <td>0.430659</td>\n",
              "      <td>2.973838</td>\n",
              "    </tr>\n",
              "    <tr>\n",
              "      <th>min</th>\n",
              "      <td>2019.000000</td>\n",
              "      <td>2020.000000</td>\n",
              "      <td>0.000000</td>\n",
              "      <td>2.500000</td>\n",
              "      <td>0.000000</td>\n",
              "    </tr>\n",
              "    <tr>\n",
              "      <th>25%</th>\n",
              "      <td>2020.000000</td>\n",
              "      <td>2022.000000</td>\n",
              "      <td>0.000000</td>\n",
              "      <td>2.877500</td>\n",
              "      <td>5.300000</td>\n",
              "    </tr>\n",
              "    <tr>\n",
              "      <th>50%</th>\n",
              "      <td>2021.000000</td>\n",
              "      <td>2023.000000</td>\n",
              "      <td>30516.500000</td>\n",
              "      <td>3.240000</td>\n",
              "      <td>6.500000</td>\n",
              "    </tr>\n",
              "    <tr>\n",
              "      <th>75%</th>\n",
              "      <td>2022.000000</td>\n",
              "      <td>2024.000000</td>\n",
              "      <td>87838.500000</td>\n",
              "      <td>3.610000</td>\n",
              "      <td>7.800000</td>\n",
              "    </tr>\n",
              "    <tr>\n",
              "      <th>max</th>\n",
              "      <td>2023.000000</td>\n",
              "      <td>2026.000000</td>\n",
              "      <td>149932.000000</td>\n",
              "      <td>4.000000</td>\n",
              "      <td>9.000000</td>\n",
              "    </tr>\n",
              "  </tbody>\n",
              "</table>\n",
              "</div>\n",
              "    <div class=\"colab-df-buttons\">\n",
              "\n",
              "  <div class=\"colab-df-container\">\n",
              "    <button class=\"colab-df-convert\" onclick=\"convertToInteractive('df-55d21e7b-8c08-4ca3-b3a2-e5e00fd71b5c')\"\n",
              "            title=\"Convert this dataframe to an interactive table.\"\n",
              "            style=\"display:none;\">\n",
              "\n",
              "  <svg xmlns=\"http://www.w3.org/2000/svg\" height=\"24px\" viewBox=\"0 -960 960 960\">\n",
              "    <path d=\"M120-120v-720h720v720H120Zm60-500h600v-160H180v160Zm220 220h160v-160H400v160Zm0 220h160v-160H400v160ZM180-400h160v-160H180v160Zm440 0h160v-160H620v160ZM180-180h160v-160H180v160Zm440 0h160v-160H620v160Z\"/>\n",
              "  </svg>\n",
              "    </button>\n",
              "\n",
              "  <style>\n",
              "    .colab-df-container {\n",
              "      display:flex;\n",
              "      gap: 12px;\n",
              "    }\n",
              "\n",
              "    .colab-df-convert {\n",
              "      background-color: #E8F0FE;\n",
              "      border: none;\n",
              "      border-radius: 50%;\n",
              "      cursor: pointer;\n",
              "      display: none;\n",
              "      fill: #1967D2;\n",
              "      height: 32px;\n",
              "      padding: 0 0 0 0;\n",
              "      width: 32px;\n",
              "    }\n",
              "\n",
              "    .colab-df-convert:hover {\n",
              "      background-color: #E2EBFA;\n",
              "      box-shadow: 0px 1px 2px rgba(60, 64, 67, 0.3), 0px 1px 3px 1px rgba(60, 64, 67, 0.15);\n",
              "      fill: #174EA6;\n",
              "    }\n",
              "\n",
              "    .colab-df-buttons div {\n",
              "      margin-bottom: 4px;\n",
              "    }\n",
              "\n",
              "    [theme=dark] .colab-df-convert {\n",
              "      background-color: #3B4455;\n",
              "      fill: #D2E3FC;\n",
              "    }\n",
              "\n",
              "    [theme=dark] .colab-df-convert:hover {\n",
              "      background-color: #434B5C;\n",
              "      box-shadow: 0px 1px 3px 1px rgba(0, 0, 0, 0.15);\n",
              "      filter: drop-shadow(0px 1px 2px rgba(0, 0, 0, 0.3));\n",
              "      fill: #FFFFFF;\n",
              "    }\n",
              "  </style>\n",
              "\n",
              "    <script>\n",
              "      const buttonEl =\n",
              "        document.querySelector('#df-55d21e7b-8c08-4ca3-b3a2-e5e00fd71b5c button.colab-df-convert');\n",
              "      buttonEl.style.display =\n",
              "        google.colab.kernel.accessAllowed ? 'block' : 'none';\n",
              "\n",
              "      async function convertToInteractive(key) {\n",
              "        const element = document.querySelector('#df-55d21e7b-8c08-4ca3-b3a2-e5e00fd71b5c');\n",
              "        const dataTable =\n",
              "          await google.colab.kernel.invokeFunction('convertToInteractive',\n",
              "                                                    [key], {});\n",
              "        if (!dataTable) return;\n",
              "\n",
              "        const docLinkHtml = 'Like what you see? Visit the ' +\n",
              "          '<a target=\"_blank\" href=https://colab.research.google.com/notebooks/data_table.ipynb>data table notebook</a>'\n",
              "          + ' to learn more about interactive tables.';\n",
              "        element.innerHTML = '';\n",
              "        dataTable['output_type'] = 'display_data';\n",
              "        await google.colab.output.renderOutput(dataTable, element);\n",
              "        const docLink = document.createElement('div');\n",
              "        docLink.innerHTML = docLinkHtml;\n",
              "        element.appendChild(docLink);\n",
              "      }\n",
              "    </script>\n",
              "  </div>\n",
              "\n",
              "\n",
              "    <div id=\"df-47e2103f-0eae-4904-888c-d08c1603aa4f\">\n",
              "      <button class=\"colab-df-quickchart\" onclick=\"quickchart('df-47e2103f-0eae-4904-888c-d08c1603aa4f')\"\n",
              "                title=\"Suggest charts\"\n",
              "                style=\"display:none;\">\n",
              "\n",
              "<svg xmlns=\"http://www.w3.org/2000/svg\" height=\"24px\"viewBox=\"0 0 24 24\"\n",
              "     width=\"24px\">\n",
              "    <g>\n",
              "        <path d=\"M19 3H5c-1.1 0-2 .9-2 2v14c0 1.1.9 2 2 2h14c1.1 0 2-.9 2-2V5c0-1.1-.9-2-2-2zM9 17H7v-7h2v7zm4 0h-2V7h2v10zm4 0h-2v-4h2v4z\"/>\n",
              "    </g>\n",
              "</svg>\n",
              "      </button>\n",
              "\n",
              "<style>\n",
              "  .colab-df-quickchart {\n",
              "      --bg-color: #E8F0FE;\n",
              "      --fill-color: #1967D2;\n",
              "      --hover-bg-color: #E2EBFA;\n",
              "      --hover-fill-color: #174EA6;\n",
              "      --disabled-fill-color: #AAA;\n",
              "      --disabled-bg-color: #DDD;\n",
              "  }\n",
              "\n",
              "  [theme=dark] .colab-df-quickchart {\n",
              "      --bg-color: #3B4455;\n",
              "      --fill-color: #D2E3FC;\n",
              "      --hover-bg-color: #434B5C;\n",
              "      --hover-fill-color: #FFFFFF;\n",
              "      --disabled-bg-color: #3B4455;\n",
              "      --disabled-fill-color: #666;\n",
              "  }\n",
              "\n",
              "  .colab-df-quickchart {\n",
              "    background-color: var(--bg-color);\n",
              "    border: none;\n",
              "    border-radius: 50%;\n",
              "    cursor: pointer;\n",
              "    display: none;\n",
              "    fill: var(--fill-color);\n",
              "    height: 32px;\n",
              "    padding: 0;\n",
              "    width: 32px;\n",
              "  }\n",
              "\n",
              "  .colab-df-quickchart:hover {\n",
              "    background-color: var(--hover-bg-color);\n",
              "    box-shadow: 0 1px 2px rgba(60, 64, 67, 0.3), 0 1px 3px 1px rgba(60, 64, 67, 0.15);\n",
              "    fill: var(--button-hover-fill-color);\n",
              "  }\n",
              "\n",
              "  .colab-df-quickchart-complete:disabled,\n",
              "  .colab-df-quickchart-complete:disabled:hover {\n",
              "    background-color: var(--disabled-bg-color);\n",
              "    fill: var(--disabled-fill-color);\n",
              "    box-shadow: none;\n",
              "  }\n",
              "\n",
              "  .colab-df-spinner {\n",
              "    border: 2px solid var(--fill-color);\n",
              "    border-color: transparent;\n",
              "    border-bottom-color: var(--fill-color);\n",
              "    animation:\n",
              "      spin 1s steps(1) infinite;\n",
              "  }\n",
              "\n",
              "  @keyframes spin {\n",
              "    0% {\n",
              "      border-color: transparent;\n",
              "      border-bottom-color: var(--fill-color);\n",
              "      border-left-color: var(--fill-color);\n",
              "    }\n",
              "    20% {\n",
              "      border-color: transparent;\n",
              "      border-left-color: var(--fill-color);\n",
              "      border-top-color: var(--fill-color);\n",
              "    }\n",
              "    30% {\n",
              "      border-color: transparent;\n",
              "      border-left-color: var(--fill-color);\n",
              "      border-top-color: var(--fill-color);\n",
              "      border-right-color: var(--fill-color);\n",
              "    }\n",
              "    40% {\n",
              "      border-color: transparent;\n",
              "      border-right-color: var(--fill-color);\n",
              "      border-top-color: var(--fill-color);\n",
              "    }\n",
              "    60% {\n",
              "      border-color: transparent;\n",
              "      border-right-color: var(--fill-color);\n",
              "    }\n",
              "    80% {\n",
              "      border-color: transparent;\n",
              "      border-right-color: var(--fill-color);\n",
              "      border-bottom-color: var(--fill-color);\n",
              "    }\n",
              "    90% {\n",
              "      border-color: transparent;\n",
              "      border-bottom-color: var(--fill-color);\n",
              "    }\n",
              "  }\n",
              "</style>\n",
              "\n",
              "      <script>\n",
              "        async function quickchart(key) {\n",
              "          const quickchartButtonEl =\n",
              "            document.querySelector('#' + key + ' button');\n",
              "          quickchartButtonEl.disabled = true;  // To prevent multiple clicks.\n",
              "          quickchartButtonEl.classList.add('colab-df-spinner');\n",
              "          try {\n",
              "            const charts = await google.colab.kernel.invokeFunction(\n",
              "                'suggestCharts', [key], {});\n",
              "          } catch (error) {\n",
              "            console.error('Error during call to suggestCharts:', error);\n",
              "          }\n",
              "          quickchartButtonEl.classList.remove('colab-df-spinner');\n",
              "          quickchartButtonEl.classList.add('colab-df-quickchart-complete');\n",
              "        }\n",
              "        (() => {\n",
              "          let quickchartButtonEl =\n",
              "            document.querySelector('#df-47e2103f-0eae-4904-888c-d08c1603aa4f button');\n",
              "          quickchartButtonEl.style.display =\n",
              "            google.colab.kernel.accessAllowed ? 'block' : 'none';\n",
              "        })();\n",
              "      </script>\n",
              "    </div>\n",
              "\n",
              "    </div>\n",
              "  </div>\n"
            ],
            "application/vnd.google.colaboratory.intrinsic+json": {
              "type": "dataframe",
              "summary": "{\n  \"name\": \"df\",\n  \"rows\": 8,\n  \"fields\": [\n    {\n      \"column\": \"year_of_enrollment\",\n      \"properties\": {\n        \"dtype\": \"number\",\n        \"std\": 1354.2571901161937,\n        \"min\": 1.4207331545857704,\n        \"max\": 5000.0,\n        \"num_unique_values\": 8,\n        \"samples\": [\n          2021.011,\n          2021.0,\n          5000.0\n        ],\n        \"semantic_type\": \"\",\n        \"description\": \"\"\n      }\n    },\n    {\n      \"column\": \"graduation_year\",\n      \"properties\": {\n        \"dtype\": \"number\",\n        \"std\": 1354.0540225723446,\n        \"min\": 1.651432289172411,\n        \"max\": 5000.0,\n        \"num_unique_values\": 8,\n        \"samples\": [\n          2023.0178,\n          2023.0,\n          5000.0\n        ],\n        \"semantic_type\": \"\",\n        \"description\": \"\"\n      }\n    },\n    {\n      \"column\": \"starting_salary_usd\",\n      \"properties\": {\n        \"dtype\": \"number\",\n        \"std\": 51726.45963404995,\n        \"min\": 0.0,\n        \"max\": 149932.0,\n        \"num_unique_values\": 7,\n        \"samples\": [\n          5000.0,\n          44552.531,\n          87838.5\n        ],\n        \"semantic_type\": \"\",\n        \"description\": \"\"\n      }\n    },\n    {\n      \"column\": \"gpa_or_score\",\n      \"properties\": {\n        \"dtype\": \"number\",\n        \"std\": 1766.7619306740778,\n        \"min\": 0.4306585897949716,\n        \"max\": 5000.0,\n        \"num_unique_values\": 8,\n        \"samples\": [\n          3.2468199999999996,\n          3.24,\n          5000.0\n        ],\n        \"semantic_type\": \"\",\n        \"description\": \"\"\n      }\n    },\n    {\n      \"column\": \"test_score\",\n      \"properties\": {\n        \"dtype\": \"number\",\n        \"std\": 1765.8899885588562,\n        \"min\": 0.0,\n        \"max\": 5000.0,\n        \"num_unique_values\": 8,\n        \"samples\": [\n          5.6322,\n          6.5,\n          5000.0\n        ],\n        \"semantic_type\": \"\",\n        \"description\": \"\"\n      }\n    }\n  ]\n}"
            }
          },
          "metadata": {},
          "execution_count": 22
        }
      ]
    },
    {
      "cell_type": "code",
      "source": [
        "# Count missing values per column\n",
        "print(df.isnull().sum())"
      ],
      "metadata": {
        "colab": {
          "base_uri": "https://localhost:8080/"
        },
        "id": "WPlYgLtY3LBW",
        "outputId": "831b8881-43c4-45f6-ca46-646120bde613"
      },
      "execution_count": 23,
      "outputs": [
        {
          "output_type": "stream",
          "name": "stdout",
          "text": [
            "student_id                      0\n",
            "origin_country                  0\n",
            "destination_country             0\n",
            "destination_city                0\n",
            "university_name                 0\n",
            "course_name                     0\n",
            "field_of_study                  0\n",
            "year_of_enrollment              0\n",
            "scholarship_received            0\n",
            "enrollment_reason               0\n",
            "graduation_year                 0\n",
            "placement_status                0\n",
            "placement_country            2491\n",
            "placement_company            2491\n",
            "starting_salary_usd             0\n",
            "gpa_or_score                    0\n",
            "visa_status                     0\n",
            "post_graduation_visa            0\n",
            "language_proficiency_test     982\n",
            "test_score                      0\n",
            "dtype: int64\n"
          ]
        }
      ]
    },
    {
      "cell_type": "code",
      "source": [
        "# Count duplicate rows\n",
        "print(df.duplicated().sum())"
      ],
      "metadata": {
        "colab": {
          "base_uri": "https://localhost:8080/"
        },
        "id": "X705OBc24Kwz",
        "outputId": "b5a92c78-55ae-4c75-e1bd-04d3e9fd02c0"
      },
      "execution_count": 24,
      "outputs": [
        {
          "output_type": "stream",
          "name": "stdout",
          "text": [
            "0\n"
          ]
        }
      ]
    },
    {
      "cell_type": "markdown",
      "source": [
        "# Data Cleaning"
      ],
      "metadata": {
        "id": "7f-yoB9D4bRj"
      }
    },
    {
      "cell_type": "code",
      "source": [
        "# Replace \"None\" or empty strings with NaN\n",
        "df = df.replace([\"None\", \"\"], np.nan)"
      ],
      "metadata": {
        "id": "JwrFyxO9DZks"
      },
      "execution_count": 25,
      "outputs": []
    },
    {
      "cell_type": "code",
      "source": [
        "# Handle students who are not placed\n",
        "mask_not_placed = df[\"placement_status\"].str.lower() == \"not placed\"\n",
        "df.loc[mask_not_placed, [\"placement_country\", \"placement_company\"]] = np.nan\n"
      ],
      "metadata": {
        "id": "4deyNLTsDTjq"
      },
      "execution_count": 26,
      "outputs": []
    },
    {
      "cell_type": "code",
      "source": [
        "# Replace starting salary 0 with NaN for not placed students\n",
        "df.loc[(df[\"placement_status\"].str.lower() == \"not placed\") &\n",
        "       (df[\"starting_salary_usd\"] == 0), \"starting_salary_usd\"] = np.nan\n"
      ],
      "metadata": {
        "id": "K3ReMZnQDic_"
      },
      "execution_count": 27,
      "outputs": []
    },
    {
      "cell_type": "code",
      "source": [
        "# Replace test_score 0 with NaN if no language test\n",
        "df.loc[(df[\"language_proficiency_test\"].isna()) &\n",
        "       (df[\"test_score\"] == 0), \"test_score\"] = np.nan\n"
      ],
      "metadata": {
        "id": "_IgNJDMCDVW8"
      },
      "execution_count": 28,
      "outputs": []
    },
    {
      "cell_type": "code",
      "source": [
        "# Clean text columns\n",
        "for col in [\"scholarship_received\", \"placement_status\", \"visa_status\", \"language_proficiency_test\"]:\n",
        "    if col in df.columns:\n",
        "        df[col] = df[col].str.strip().str.title()\n"
      ],
      "metadata": {
        "id": "O1a953_aDwCn"
      },
      "execution_count": 29,
      "outputs": []
    },
    {
      "cell_type": "code",
      "source": [
        "# Check for invalid graduation years\n",
        "invalid_years = df[df[\"graduation_year\"] < df[\"year_of_enrollment\"]]\n",
        "if not invalid_years.empty:\n",
        "    print(\"Found invalid graduation years:\")\n",
        "    print(invalid_years)\n"
      ],
      "metadata": {
        "id": "gSm92vpND2Ua"
      },
      "execution_count": 30,
      "outputs": []
    },
    {
      "cell_type": "code",
      "source": [
        "# Fill missing categorical values with \"Unknown\"\n",
        "categorical_cols = df.select_dtypes(include='object').columns\n",
        "df[categorical_cols] = df[categorical_cols].fillna('Unknown')\n"
      ],
      "metadata": {
        "id": "PID21Q-BxBc1"
      },
      "execution_count": 32,
      "outputs": []
    },
    {
      "cell_type": "code",
      "source": [
        "# Display Data after cleaning\n",
        "print(df.head())"
      ],
      "metadata": {
        "colab": {
          "base_uri": "https://localhost:8080/"
        },
        "id": "lccJDFvJ4MeJ",
        "outputId": "58bec270-7a45-4d1a-81dc-65b108dc05cb"
      },
      "execution_count": 33,
      "outputs": [
        {
          "output_type": "stream",
          "name": "stdout",
          "text": [
            "  student_id origin_country destination_country destination_city  \\\n",
            "0     S00001        Finland              Russia           Moscow   \n",
            "1     S00002             UK             Germany           Aachen   \n",
            "2     S00003        Ireland              Canada        Vancouver   \n",
            "3     S00004            UAE                  UK       Birmingham   \n",
            "4     S00005   South Africa             Germany        Stuttgart   \n",
            "\n",
            "                     university_name              course_name  \\\n",
            "0  Lomonosov Moscow State University         Computer Science   \n",
            "1                        RWTH Aachen        Civil Engineering   \n",
            "2     University of British Columbia                      Law   \n",
            "3           University of Birmingham             Data Science   \n",
            "4            University of Stuttgart  Business Administration   \n",
            "\n",
            "    field_of_study  year_of_enrollment scholarship_received  \\\n",
            "0      Engineering                2021                   No   \n",
            "1              Law                2023                  Yes   \n",
            "2             Arts                2019                   No   \n",
            "3  Social Sciences                2021                  Yes   \n",
            "4              Law                2020                  Yes   \n",
            "\n",
            "     enrollment_reason  graduation_year placement_status placement_country  \\\n",
            "0       Higher Ranking             2024           Placed            Russia   \n",
            "1    Job Opportunities             2024           Placed           Germany   \n",
            "2          Scholarship             2020       Not Placed           Unknown   \n",
            "3      Quality of Life             2023           Placed                UK   \n",
            "4  Political Stability             2021           Placed           Germany   \n",
            "\n",
            "  placement_company  starting_salary_usd  gpa_or_score            visa_status  \\\n",
            "0         Microsoft              36416.0          3.92                 Tier 4   \n",
            "1            Google              32956.0          2.60           Study Permit   \n",
            "2           Unknown                  NaN          2.72                     F1   \n",
            "3             Apple              50892.0          3.71  Schengen Student Visa   \n",
            "4               IBM              54790.0          2.96  Schengen Student Visa   \n",
            "\n",
            "  post_graduation_visa language_proficiency_test  test_score  \n",
            "0          Work Permit                     Toefl         7.8  \n",
            "1                  OPT                       Pte         7.9  \n",
            "2            Blue Card                   Unknown         NaN  \n",
            "3                  PSW                   Unknown         NaN  \n",
            "4                  OPT                       Pte         8.2  \n"
          ]
        }
      ]
    },
    {
      "cell_type": "code",
      "source": [
        "print(df.info())"
      ],
      "metadata": {
        "colab": {
          "base_uri": "https://localhost:8080/"
        },
        "id": "gq_PKaWiF40O",
        "outputId": "7d2dbbb9-16c4-4990-b9bb-abf46703f4e9"
      },
      "execution_count": 34,
      "outputs": [
        {
          "output_type": "stream",
          "name": "stdout",
          "text": [
            "<class 'pandas.core.frame.DataFrame'>\n",
            "RangeIndex: 5000 entries, 0 to 4999\n",
            "Data columns (total 20 columns):\n",
            " #   Column                     Non-Null Count  Dtype  \n",
            "---  ------                     --------------  -----  \n",
            " 0   student_id                 5000 non-null   object \n",
            " 1   origin_country             5000 non-null   object \n",
            " 2   destination_country        5000 non-null   object \n",
            " 3   destination_city           5000 non-null   object \n",
            " 4   university_name            5000 non-null   object \n",
            " 5   course_name                5000 non-null   object \n",
            " 6   field_of_study             5000 non-null   object \n",
            " 7   year_of_enrollment         5000 non-null   int64  \n",
            " 8   scholarship_received       5000 non-null   object \n",
            " 9   enrollment_reason          5000 non-null   object \n",
            " 10  graduation_year            5000 non-null   int64  \n",
            " 11  placement_status           5000 non-null   object \n",
            " 12  placement_country          5000 non-null   object \n",
            " 13  placement_company          5000 non-null   object \n",
            " 14  starting_salary_usd        2509 non-null   float64\n",
            " 15  gpa_or_score               5000 non-null   float64\n",
            " 16  visa_status                5000 non-null   object \n",
            " 17  post_graduation_visa       5000 non-null   object \n",
            " 18  language_proficiency_test  5000 non-null   object \n",
            " 19  test_score                 4018 non-null   float64\n",
            "dtypes: float64(3), int64(2), object(15)\n",
            "memory usage: 781.4+ KB\n",
            "None\n"
          ]
        }
      ]
    },
    {
      "cell_type": "code",
      "source": [
        "print(df.describe())"
      ],
      "metadata": {
        "colab": {
          "base_uri": "https://localhost:8080/"
        },
        "id": "fWxRA-mSF8Fl",
        "outputId": "0f5a37da-d97d-45fa-ce9d-43ef4be2be71"
      },
      "execution_count": 35,
      "outputs": [
        {
          "output_type": "stream",
          "name": "stdout",
          "text": [
            "       year_of_enrollment  graduation_year  starting_salary_usd  gpa_or_score  \\\n",
            "count         5000.000000      5000.000000          2509.000000   5000.000000   \n",
            "mean          2021.011000      2023.017800         88785.434436      3.246820   \n",
            "std              1.420733         1.651432         34621.270826      0.430659   \n",
            "min           2019.000000      2020.000000         30276.000000      2.500000   \n",
            "25%           2020.000000      2022.000000         58371.000000      2.877500   \n",
            "50%           2021.000000      2023.000000         87777.000000      3.240000   \n",
            "75%           2022.000000      2024.000000        119002.000000      3.610000   \n",
            "max           2023.000000      2026.000000        149932.000000      4.000000   \n",
            "\n",
            "        test_score  \n",
            "count  4018.000000  \n",
            "mean      7.008711  \n",
            "std       1.164340  \n",
            "min       5.000000  \n",
            "25%       6.000000  \n",
            "50%       7.000000  \n",
            "75%       8.000000  \n",
            "max       9.000000  \n"
          ]
        }
      ]
    },
    {
      "cell_type": "code",
      "source": [
        "print(df.isna().sum())"
      ],
      "metadata": {
        "colab": {
          "base_uri": "https://localhost:8080/"
        },
        "id": "HmxieigUF-pV",
        "outputId": "347a7cbb-1101-433e-d306-69687298807c"
      },
      "execution_count": 36,
      "outputs": [
        {
          "output_type": "stream",
          "name": "stdout",
          "text": [
            "student_id                      0\n",
            "origin_country                  0\n",
            "destination_country             0\n",
            "destination_city                0\n",
            "university_name                 0\n",
            "course_name                     0\n",
            "field_of_study                  0\n",
            "year_of_enrollment              0\n",
            "scholarship_received            0\n",
            "enrollment_reason               0\n",
            "graduation_year                 0\n",
            "placement_status                0\n",
            "placement_country               0\n",
            "placement_company               0\n",
            "starting_salary_usd          2491\n",
            "gpa_or_score                    0\n",
            "visa_status                     0\n",
            "post_graduation_visa            0\n",
            "language_proficiency_test       0\n",
            "test_score                    982\n",
            "dtype: int64\n"
          ]
        }
      ]
    },
    {
      "cell_type": "markdown",
      "source": [
        "#Feature Engineering\n"
      ],
      "metadata": {
        "id": "Ye7O80uuE1ji"
      }
    },
    {
      "cell_type": "code",
      "source": [
        "# Create boolean flags from categorical columns\n",
        "df[\"scholarship_flag\"] = df[\"scholarship_received\"].map({\"Yes\": True, \"No\": False})\n",
        "df[\"placed_flag\"] = df[\"placement_status\"].map({\"Placed\": True, \"Not Placed\": False})\n"
      ],
      "metadata": {
        "id": "fbIs_Ku9E8fx"
      },
      "execution_count": 37,
      "outputs": []
    },
    {
      "cell_type": "markdown",
      "source": [
        "#KPIs\n"
      ],
      "metadata": {
        "id": "CGfplAIT-wuh"
      }
    },
    {
      "cell_type": "code",
      "source": [
        "# Calculate some key metrics for student placement and salaries\n",
        "placement_rate = df['placed_flag'].mean() * 100\n",
        "average_salary = df['starting_salary_usd'].mean()\n",
        "average_salary_scholarship = df[df['scholarship_flag']]['starting_salary_usd'].mean()\n",
        "average_salary_no_scholarship = df[~df['scholarship_flag']]['starting_salary_usd'].mean()\n",
        "salary_difference = average_salary_scholarship - average_salary_no_scholarship\n",
        "\n",
        "# Placement rate based on language proficiency test\n",
        "placement_by_language = df.groupby('language_proficiency_test')['placed_flag'].mean() * 100\n",
        "\n",
        "# Display the KPIs\n",
        "print(\"Key Performance Indicators (KPIs)\")\n",
        "print(f\"Placement Rate: {placement_rate:.2f}%\")\n",
        "print(f\"Average Starting Salary: ${average_salary:,.2f}\")\n",
        "print(f\"Average Salary (Scholarship): ${average_salary_scholarship:,.2f}\")\n",
        "print(f\"Average Salary (No Scholarship): ${average_salary_no_scholarship:,.2f}\")\n",
        "print(f\"Salary Difference: ${salary_difference:,.2f}\")\n",
        "print(\"Placement Rate by Language Test:\")\n",
        "print(placement_by_language)\n"
      ],
      "metadata": {
        "colab": {
          "base_uri": "https://localhost:8080/"
        },
        "id": "Zj3OdQeH-1QY",
        "outputId": "0ac74b93-0203-46a0-fb04-b0960e34cda0"
      },
      "execution_count": 38,
      "outputs": [
        {
          "output_type": "stream",
          "name": "stdout",
          "text": [
            "Key Performance Indicators (KPIs)\n",
            "Placement Rate: 50.18%\n",
            "Average Starting Salary: $88,785.43\n",
            "Average Salary (Scholarship): $88,617.83\n",
            "Average Salary (No Scholarship): $88,961.11\n",
            "Salary Difference: $-343.28\n",
            "Placement Rate by Language Test:\n",
            "language_proficiency_test\n",
            "Duolingo    47.961165\n",
            "Ielts       52.338308\n",
            "Pte         49.549550\n",
            "Toefl       50.813008\n",
            "Unknown     50.305499\n",
            "Name: placed_flag, dtype: float64\n"
          ]
        }
      ]
    },
    {
      "cell_type": "markdown",
      "source": [
        "#Insights"
      ],
      "metadata": {
        "id": "dtycj6r9HU8y"
      }
    },
    {
      "cell_type": "code",
      "source": [
        "insights = []\n",
        "\n",
        "if placement_rate < 70:\n",
        "    insights.append(f\"Placement rate is relatively low ({placement_rate:.0f}%).\")\n",
        "\n",
        "if salary_difference > 0:\n",
        "    insights.append(\"Students with scholarships have higher average salaries.\")\n",
        "\n",
        "if placement_by_language.max() - placement_by_language.min() > 10:\n",
        "    insights.append(\"Language proficiency test results strongly influence placement rates.\")\n",
        "\n",
        "print(\"Insights:\")\n",
        "for i in insights:\n",
        "    print(f\"- {i}\")"
      ],
      "metadata": {
        "colab": {
          "base_uri": "https://localhost:8080/"
        },
        "id": "KRh4S3yNHXZx",
        "outputId": "404f15f6-307d-443d-9eaa-d5bc47e5afd7"
      },
      "execution_count": 39,
      "outputs": [
        {
          "output_type": "stream",
          "name": "stdout",
          "text": [
            "Insights:\n",
            "- Placement rate is relatively low (50%).\n"
          ]
        }
      ]
    },
    {
      "cell_type": "markdown",
      "source": [
        "#Recommendations\n"
      ],
      "metadata": {
        "id": "HfxfegxZJNpU"
      }
    },
    {
      "cell_type": "code",
      "source": [
        "\n",
        "recommendations = []\n",
        "\n",
        "if placement_rate < 70:\n",
        "    recommendations.append(\"Expand job partnerships to improve placement rate.\")\n",
        "if salary_difference > 0:\n",
        "    recommendations.append(\"Increase the number of scholarships to boost salary outcomes.\")\n",
        "if placement_by_language.max() - placement_by_language.min() > 10:\n",
        "    recommendations.append(\"Offer language training programs to improve placement opportunities.\")\n",
        "\n",
        "print(\"Recommendations:\")\n",
        "for r in recommendations:\n",
        "    print(f\"- {r}\")"
      ],
      "metadata": {
        "colab": {
          "base_uri": "https://localhost:8080/"
        },
        "id": "FHwHcKmgIx2w",
        "outputId": "88823d5c-e23b-46c3-fe53-85b41808e6df"
      },
      "execution_count": 40,
      "outputs": [
        {
          "output_type": "stream",
          "name": "stdout",
          "text": [
            "Recommendations:\n",
            "- Expand job partnerships to improve placement rate.\n"
          ]
        }
      ]
    },
    {
      "cell_type": "markdown",
      "source": [
        "#Exploratory Data Analysis"
      ],
      "metadata": {
        "id": "z-cz8s4B6eeN"
      }
    },
    {
      "cell_type": "code",
      "source": [
        "\n",
        "# Bar chart: Number of students by destination country\n",
        "plt.figure(figsize=(10,5))\n",
        "sns.countplot(y='destination_country', data=df, order=df['destination_country'].value_counts().index)\n",
        "plt.title(\"Number of Students by Destination Country\")\n",
        "plt.xlabel(\"Count\")\n",
        "plt.ylabel(\"Destination Country\")\n",
        "plt.show()\n",
        "\n"
      ],
      "metadata": {
        "colab": {
          "base_uri": "https://localhost:8080/",
          "height": 487
        },
        "id": "yyloadP96aKi",
        "outputId": "a905ea9a-3db5-44cc-adfd-771eea0aaab8"
      },
      "execution_count": 41,
      "outputs": [
        {
          "output_type": "display_data",
          "data": {
            "text/plain": [
              "<Figure size 1000x500 with 1 Axes>"
            ],
            "image/png": "[encoded data removed]"
          },
          "metadata": {}
        }
      ]
    },
    {
      "cell_type": "code",
      "source": [
        "# Pie chart: Scholarship distribution\n",
        "plt.figure(figsize=(6,6))\n",
        "df['scholarship_received'].value_counts().plot.pie(autopct='%1.1f%%')\n",
        "plt.title(\"Scholarship Received\")\n",
        "plt.ylabel(\"\")\n",
        "plt.show()"
      ],
      "metadata": {
        "colab": {
          "base_uri": "https://localhost:8080/",
          "height": 521
        },
        "id": "o_wAkS1j6q6C",
        "outputId": "b8628f65-b148-4503-975e-953bd985032b"
      },
      "execution_count": 42,
      "outputs": [
        {
          "output_type": "display_data",
          "data": {
            "text/plain": [
              "<Figure size 600x600 with 1 Axes>"
            ],
            "image/png": "[encoded data removed]"
          },
          "metadata": {}
        }
      ]
    },
    {
      "cell_type": "code",
      "source": [
        "# Count Plot showing the number of students in each category of 'scholarship_received'\n",
        "plt.figure(figsize=(6, 4))\n",
        "sns.countplot(x=\"scholarship_received\", data=df)\n",
        "plt.title(\"Scholarship Received Count\")\n",
        "plt.show()"
      ],
      "metadata": {
        "colab": {
          "base_uri": "https://localhost:8080/",
          "height": 410
        },
        "id": "LW6GfRYm7Vbj",
        "outputId": "75e5c1db-0bba-44eb-ea17-89270d5b79de"
      },
      "execution_count": 43,
      "outputs": [
        {
          "output_type": "display_data",
          "data": {
            "text/plain": [
              "<Figure size 600x400 with 1 Axes>"
            ],
            "image/png": "[encoded data removed]"
          },
          "metadata": {}
        }
      ]
    },
    {
      "cell_type": "code",
      "source": [
        "# Plot a histogram of the 'gpa_or_score'\n",
        "sns.histplot(df['gpa_or_score'], bins=20, kde=True)\n",
        "plt.title('Distribution of GPA')\n",
        "plt.xlabel('GPA')\n",
        "plt.ylabel('Frequency')\n",
        "plt.show()"
      ],
      "metadata": {
        "colab": {
          "base_uri": "https://localhost:8080/",
          "height": 472
        },
        "id": "RItLi1G66sjC",
        "outputId": "efc2a666-582e-4e01-ce17-6ec971cae70e"
      },
      "execution_count": 44,
      "outputs": [
        {
          "output_type": "display_data",
          "data": {
            "text/plain": [
              "<Figure size 640x480 with 1 Axes>"
            ],
            "image/png": "[encoded data removed]"
          },
          "metadata": {}
        }
      ]
    },
    {
      "cell_type": "code",
      "source": [
        "plt.figure(figsize=(6, 4))\n",
        "sns.histplot(df[\"starting_salary_usd\"].dropna(), bins=10, kde=True)\n",
        "plt.title(\"Distribution of Starting Salary (USD)\")\n",
        "plt.xlabel(\"Starting Salary (USD)\")\n",
        "plt.show()\n"
      ],
      "metadata": {
        "colab": {
          "base_uri": "https://localhost:8080/",
          "height": 410
        },
        "id": "CaMXryJ_7rbF",
        "outputId": "47898ed6-1250-4254-d10c-6df00a9d58d9"
      },
      "execution_count": 45,
      "outputs": [
        {
          "output_type": "display_data",
          "data": {
            "text/plain": [
              "<Figure size 600x400 with 1 Axes>"
            ],
            "image/png": "[encoded data removed]"
          },
          "metadata": {}
        }
      ]
    },
    {
      "cell_type": "code",
      "source": [
        "# Correlation Heatmap for numeric columns\n",
        "plt.figure(figsize=(8, 6))\n",
        "corr = df.corr(numeric_only=True)\n",
        "sns.heatmap(corr, annot=True, cmap=\"coolwarm\", fmt=\".2f\")\n",
        "plt.title(\"Correlation Heatmap\")\n",
        "plt.show()"
      ],
      "metadata": {
        "colab": {
          "base_uri": "https://localhost:8080/",
          "height": 666
        },
        "id": "Llpk1dON7luP",
        "outputId": "60f521d6-9a4d-474b-a327-9928e80aaadf"
      },
      "execution_count": 46,
      "outputs": [
        {
          "output_type": "display_data",
          "data": {
            "text/plain": [
              "<Figure size 800x600 with 2 Axes>"
            ],
            "image/png": "[encoded data removed]"
          },
          "metadata": {}
        }
      ]
    },
    {
      "cell_type": "markdown",
      "source": [
        "##Extract key insights"
      ],
      "metadata": {
        "id": "T71nD89_9JZS"
      }
    },
    {
      "cell_type": "code",
      "source": [
        "# Top 5 countries receiving most students\n",
        "top_destinations = df['destination_country'].value_counts().head(5)\n",
        "print(\"Top 5 Destination Countries:\\n\", top_destinations)"
      ],
      "metadata": {
        "colab": {
          "base_uri": "https://localhost:8080/"
        },
        "id": "yQmRE3O59BQZ",
        "outputId": "d072999c-0836-46b7-ac10-278ffdaecb10"
      },
      "execution_count": 47,
      "outputs": [
        {
          "output_type": "stream",
          "name": "stdout",
          "text": [
            "Top 5 Destination Countries:\n",
            " destination_country\n",
            "UAE             538\n",
            "UK              526\n",
            "Germany         518\n",
            "Russia          515\n",
            "South Africa    496\n",
            "Name: count, dtype: int64\n"
          ]
        }
      ]
    },
    {
      "cell_type": "code",
      "source": [
        "# Average starting salary by field of study\n",
        "avg_salary_by_field = df.groupby('field_of_study')['starting_salary_usd'].mean().sort_values(ascending=False)\n",
        "print(\"\\nAverage Starting Salary by Field of Study:\\n\", avg_salary_by_field)"
      ],
      "metadata": {
        "colab": {
          "base_uri": "https://localhost:8080/"
        },
        "id": "otxCtBp49WqH",
        "outputId": "1b81823b-b007-46e7-effa-e7a649ae1b16"
      },
      "execution_count": 48,
      "outputs": [
        {
          "output_type": "stream",
          "name": "stdout",
          "text": [
            "\n",
            "Average Starting Salary by Field of Study:\n",
            " field_of_study\n",
            "Medicine            92317.744526\n",
            "Business            91072.245098\n",
            "Law                 90966.996865\n",
            "Social Sciences     88660.177177\n",
            "Engineering         87801.701149\n",
            "Computer Science    87459.235484\n",
            "Arts                87277.836066\n",
            "Natural Sciences    85255.031847\n",
            "Name: starting_salary_usd, dtype: float64\n"
          ]
        }
      ]
    },
    {
      "cell_type": "code",
      "source": [
        "# Correlation between GPA and salary\n",
        "correlation = df['gpa_or_score'].corr(df['starting_salary_usd'])\n",
        "print(f\"\\nCorrelation between GPA and Starting Salary: {correlation:.2f}\")"
      ],
      "metadata": {
        "colab": {
          "base_uri": "https://localhost:8080/"
        },
        "id": "yvnl_ZC09ZF9",
        "outputId": "052cbcf8-518d-4353-f656-1e5a444f9fbf"
      },
      "execution_count": 49,
      "outputs": [
        {
          "output_type": "stream",
          "name": "stdout",
          "text": [
            "\n",
            "Correlation between GPA and Starting Salary: -0.02\n"
          ]
        }
      ]
    }
  ]
}
